{
 "cells": [
  {
   "cell_type": "markdown",
   "id": "af9f6a92-e8e1-443f-b9bd-becc614fe040",
   "metadata": {},
   "source": [
    "# Imports"
   ]
  },
  {
   "cell_type": "code",
   "execution_count": 2,
   "id": "17956f2d-25f2-43ce-937d-cbcedaf2ff15",
   "metadata": {
    "execution": {
     "iopub.execute_input": "2021-06-22T15:08:47.133340Z",
     "iopub.status.busy": "2021-06-22T15:08:47.132339Z",
     "iopub.status.idle": "2021-06-22T15:08:47.151339Z",
     "shell.execute_reply": "2021-06-22T15:08:47.150339Z",
     "shell.execute_reply.started": "2021-06-22T15:08:47.133340Z"
    },
    "tags": []
   },
   "outputs": [],
   "source": [
    "import numpy as np\n",
    "import tensorflow as tf\n",
    "from tensorflow import keras"
   ]
  },
  {
   "cell_type": "code",
   "execution_count": 4,
   "id": "c6a1338f-5860-4a1b-943f-1b18b3f9948c",
   "metadata": {
    "execution": {
     "iopub.execute_input": "2021-06-22T15:09:45.878608Z",
     "iopub.status.busy": "2021-06-22T15:09:45.877608Z",
     "iopub.status.idle": "2021-06-22T15:09:46.015608Z",
     "shell.execute_reply": "2021-06-22T15:09:46.013608Z",
     "shell.execute_reply.started": "2021-06-22T15:09:45.878608Z"
    },
    "tags": []
   },
   "outputs": [],
   "source": [
    "alpha=0.01\n",
    "alpha_decay=0.01\n",
    "model = tf.keras.models.Sequential()\n",
    "model.add(tf.keras.layers.Dense(24, input_dim=5, activation='tanh')) # input the 5 dimensions of the state\n",
    "model.add(tf.keras.layers.Dense(48, activation='tanh'))\n",
    "model.add(tf.keras.layers.Dense(2, activation='linear')) # output the Q-values (value function) for the two actions\n",
    "\n",
    "optimizer=keras.optimizers.Adam(learning_rate=alpha, decay=alpha_decay)\n",
    "loss = keras.losses.MeanSquaredError()\n",
    "model.compile(optimizer=optimizer, loss=loss)"
   ]
  },
  {
   "cell_type": "code",
   "execution_count": 8,
   "id": "5f97f15f-cd77-4506-91c5-73d79942836b",
   "metadata": {
    "execution": {
     "iopub.execute_input": "2021-06-22T15:10:32.541750Z",
     "iopub.status.busy": "2021-06-22T15:10:32.540751Z",
     "iopub.status.idle": "2021-06-22T15:10:32.554749Z",
     "shell.execute_reply": "2021-06-22T15:10:32.553752Z",
     "shell.execute_reply.started": "2021-06-22T15:10:32.540751Z"
    },
    "tags": []
   },
   "outputs": [],
   "source": [
    "state = np.array([[1,1,1,1,0]])"
   ]
  },
  {
   "cell_type": "code",
   "execution_count": 9,
   "id": "b4bc6c41-bc93-44c2-ab1b-5a45b9ba79f3",
   "metadata": {
    "execution": {
     "iopub.execute_input": "2021-06-22T15:10:32.980753Z",
     "iopub.status.busy": "2021-06-22T15:10:32.979750Z",
     "iopub.status.idle": "2021-06-22T15:10:33.110807Z",
     "shell.execute_reply": "2021-06-22T15:10:33.108751Z",
     "shell.execute_reply.started": "2021-06-22T15:10:32.980753Z"
    },
    "tags": []
   },
   "outputs": [
    {
     "data": {
      "text/plain": [
       "0"
      ]
     },
     "execution_count": 9,
     "metadata": {},
     "output_type": "execute_result"
    }
   ],
   "source": [
    "np.argmax(model.predict(state))"
   ]
  },
  {
   "cell_type": "code",
   "execution_count": 10,
   "id": "c53de42a-cdfb-476e-aff1-f80da5ed2fe1",
   "metadata": {
    "execution": {
     "iopub.execute_input": "2021-06-23T12:20:40.805648Z",
     "iopub.status.busy": "2021-06-23T12:20:40.800645Z",
     "iopub.status.idle": "2021-06-23T12:20:40.846644Z",
     "shell.execute_reply": "2021-06-23T12:20:40.845643Z",
     "shell.execute_reply.started": "2021-06-23T12:20:40.804648Z"
    }
   },
   "outputs": [],
   "source": [
    "import time"
   ]
  },
  {
   "cell_type": "code",
   "execution_count": 12,
   "id": "621d3aac-1992-4cf0-a818-10f8c3ef9e55",
   "metadata": {
    "execution": {
     "iopub.execute_input": "2021-06-23T12:20:49.904644Z",
     "iopub.status.busy": "2021-06-23T12:20:49.903644Z",
     "iopub.status.idle": "2021-06-23T12:20:49.917644Z",
     "shell.execute_reply": "2021-06-23T12:20:49.916644Z",
     "shell.execute_reply.started": "2021-06-23T12:20:49.904644Z"
    },
    "tags": []
   },
   "outputs": [],
   "source": [
    "now = time.time()"
   ]
  },
  {
   "cell_type": "code",
   "execution_count": 15,
   "id": "440e06c8-ca24-4320-a610-90148e09f87b",
   "metadata": {
    "execution": {
     "iopub.execute_input": "2021-06-23T12:21:04.035185Z",
     "iopub.status.busy": "2021-06-23T12:21:04.034182Z",
     "iopub.status.idle": "2021-06-23T12:21:04.056183Z",
     "shell.execute_reply": "2021-06-23T12:21:04.055182Z",
     "shell.execute_reply.started": "2021-06-23T12:21:04.035185Z"
    },
    "tags": []
   },
   "outputs": [
    {
     "data": {
      "text/plain": [
       "14.130537271499634"
      ]
     },
     "execution_count": 15,
     "metadata": {},
     "output_type": "execute_result"
    }
   ],
   "source": [
    "time.time() - now"
   ]
  },
  {
   "cell_type": "code",
   "execution_count": 16,
   "id": "1b2ef96d-1a76-4960-a3cd-2ee7ffec0fcb",
   "metadata": {
    "execution": {
     "iopub.execute_input": "2021-06-23T12:46:57.104161Z",
     "iopub.status.busy": "2021-06-23T12:46:57.104161Z",
     "iopub.status.idle": "2021-06-23T12:46:57.126161Z",
     "shell.execute_reply": "2021-06-23T12:46:57.125161Z",
     "shell.execute_reply.started": "2021-06-23T12:46:57.104161Z"
    }
   },
   "outputs": [],
   "source": [
    "import datetime"
   ]
  },
  {
   "cell_type": "code",
   "execution_count": 22,
   "id": "5397097a-3889-4dab-85f0-2e6efa48bace",
   "metadata": {
    "execution": {
     "iopub.execute_input": "2021-06-23T12:49:36.579227Z",
     "iopub.status.busy": "2021-06-23T12:49:36.579227Z",
     "iopub.status.idle": "2021-06-23T12:49:36.593225Z",
     "shell.execute_reply": "2021-06-23T12:49:36.592227Z",
     "shell.execute_reply.started": "2021-06-23T12:49:36.579227Z"
    },
    "tags": []
   },
   "outputs": [],
   "source": [
    "dt = datetime.datetime.now()"
   ]
  },
  {
   "cell_type": "code",
   "execution_count": 27,
   "id": "77404686-ba54-43a9-8438-d48e3aecb43d",
   "metadata": {
    "execution": {
     "iopub.execute_input": "2021-06-23T12:50:41.416753Z",
     "iopub.status.busy": "2021-06-23T12:50:41.416753Z",
     "iopub.status.idle": "2021-06-23T12:50:41.423749Z",
     "shell.execute_reply": "2021-06-23T12:50:41.422750Z",
     "shell.execute_reply.started": "2021-06-23T12:50:41.416753Z"
    },
    "tags": []
   },
   "outputs": [
    {
     "data": {
      "text/plain": [
       "datetime.date(2021, 6, 23)"
      ]
     },
     "execution_count": 27,
     "metadata": {},
     "output_type": "execute_result"
    }
   ],
   "source": [
    "dt.date()"
   ]
  },
  {
   "cell_type": "code",
   "execution_count": 28,
   "id": "dcb9e97a-a90c-46d9-87f6-f305372042b1",
   "metadata": {
    "execution": {
     "iopub.execute_input": "2021-06-23T12:50:44.227752Z",
     "iopub.status.busy": "2021-06-23T12:50:44.227752Z",
     "iopub.status.idle": "2021-06-23T12:50:44.271749Z",
     "shell.execute_reply": "2021-06-23T12:50:44.270778Z",
     "shell.execute_reply.started": "2021-06-23T12:50:44.227752Z"
    }
   },
   "outputs": [
    {
     "ename": "TypeError",
     "evalue": "'int' object is not callable",
     "output_type": "error",
     "traceback": [
      "\u001b[1;31m---------------------------------------------------------------------------\u001b[0m",
      "\u001b[1;31mTypeError\u001b[0m                                 Traceback (most recent call last)",
      "\u001b[1;32m<ipython-input-28-fad02b6c7408>\u001b[0m in \u001b[0;36m<module>\u001b[1;34m\u001b[0m\n\u001b[1;32m----> 1\u001b[1;33m \u001b[0mdt\u001b[0m\u001b[1;33m.\u001b[0m\u001b[0mhour\u001b[0m\u001b[1;33m(\u001b[0m\u001b[1;33m)\u001b[0m\u001b[1;33m\u001b[0m\u001b[1;33m\u001b[0m\u001b[0m\n\u001b[0m",
      "\u001b[1;31mTypeError\u001b[0m: 'int' object is not callable"
     ]
    }
   ],
   "source": [
    "dt.ctime"
   ]
  },
  {
   "cell_type": "code",
   "execution_count": 35,
   "id": "37d2eaa2-ecf3-4bba-9fd0-5f0ea99f2fcd",
   "metadata": {
    "execution": {
     "iopub.execute_input": "2021-06-23T12:54:56.856447Z",
     "iopub.status.busy": "2021-06-23T12:54:56.856447Z",
     "iopub.status.idle": "2021-06-23T12:54:56.873414Z",
     "shell.execute_reply": "2021-06-23T12:54:56.872414Z",
     "shell.execute_reply.started": "2021-06-23T12:54:56.856447Z"
    },
    "tags": []
   },
   "outputs": [],
   "source": [
    "timestr = time.strftime(\"%y%m%d_%H%M\")"
   ]
  },
  {
   "cell_type": "code",
   "execution_count": 36,
   "id": "c8b40b9e-d540-4303-9534-5e21d4956c42",
   "metadata": {
    "execution": {
     "iopub.execute_input": "2021-06-23T12:54:57.132421Z",
     "iopub.status.busy": "2021-06-23T12:54:57.132421Z",
     "iopub.status.idle": "2021-06-23T12:54:57.141416Z",
     "shell.execute_reply": "2021-06-23T12:54:57.140417Z",
     "shell.execute_reply.started": "2021-06-23T12:54:57.132421Z"
    },
    "tags": []
   },
   "outputs": [
    {
     "name": "stdout",
     "output_type": "stream",
     "text": [
      "210623_1454\n"
     ]
    }
   ],
   "source": [
    "print(timestr)"
   ]
  },
  {
   "cell_type": "code",
   "execution_count": 37,
   "id": "514ff205-a069-4283-8c31-729385889099",
   "metadata": {
    "execution": {
     "iopub.execute_input": "2021-06-23T13:10:12.109531Z",
     "iopub.status.busy": "2021-06-23T13:10:12.109531Z",
     "iopub.status.idle": "2021-06-23T13:10:12.127069Z",
     "shell.execute_reply": "2021-06-23T13:10:12.126072Z",
     "shell.execute_reply.started": "2021-06-23T13:10:12.109531Z"
    }
   },
   "outputs": [
    {
     "data": {
      "text/plain": [
       "str"
      ]
     },
     "execution_count": 37,
     "metadata": {},
     "output_type": "execute_result"
    }
   ],
   "source": [
    "type(timestr)"
   ]
  },
  {
   "cell_type": "code",
   "execution_count": 38,
   "id": "1c69faef-50df-4141-8075-db9c53382ddc",
   "metadata": {
    "execution": {
     "iopub.execute_input": "2021-06-23T13:19:51.783899Z",
     "iopub.status.busy": "2021-06-23T13:19:51.783899Z",
     "iopub.status.idle": "2021-06-23T13:19:51.818898Z",
     "shell.execute_reply": "2021-06-23T13:19:51.816899Z",
     "shell.execute_reply.started": "2021-06-23T13:19:51.783899Z"
    }
   },
   "outputs": [
    {
     "ename": "NameError",
     "evalue": "name 'PATH' is not defined",
     "output_type": "error",
     "traceback": [
      "\u001b[1;31m---------------------------------------------------------------------------\u001b[0m",
      "\u001b[1;31mNameError\u001b[0m                                 Traceback (most recent call last)",
      "\u001b[1;32m<ipython-input-38-c3f7973603a9>\u001b[0m in \u001b[0;36m<module>\u001b[1;34m\u001b[0m\n\u001b[1;32m----> 1\u001b[1;33m \u001b[0mprint\u001b[0m\u001b[1;33m(\u001b[0m\u001b[1;34mf'{PATH}{time.strftime(\"%y%m%d_%H%M\")}.p'\u001b[0m\u001b[1;33m)\u001b[0m\u001b[1;33m\u001b[0m\u001b[1;33m\u001b[0m\u001b[0m\n\u001b[0m",
      "\u001b[1;31mNameError\u001b[0m: name 'PATH' is not defined"
     ]
    }
   ],
   "source": [
    "print(f'{PATH}{time.strftime(\"%y%m%d_%H%M\")}.p')"
   ]
  },
  {
   "cell_type": "code",
   "execution_count": null,
   "id": "5f89088c-4a1e-4422-9181-d24e393b27ad",
   "metadata": {},
   "outputs": [],
   "source": []
  }
 ],
 "metadata": {
  "kernelspec": {
   "display_name": "Python 3",
   "language": "python",
   "name": "python3"
  },
  "language_info": {
   "codemirror_mode": {
    "name": "ipython",
    "version": 3
   },
   "file_extension": ".py",
   "mimetype": "text/x-python",
   "name": "python",
   "nbconvert_exporter": "python",
   "pygments_lexer": "ipython3",
   "version": "3.8.10"
  }
 },
 "nbformat": 4,
 "nbformat_minor": 5
}
