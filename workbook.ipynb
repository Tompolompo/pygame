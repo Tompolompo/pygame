{
 "cells": [
  {
   "cell_type": "markdown",
   "id": "af9f6a92-e8e1-443f-b9bd-becc614fe040",
   "metadata": {},
   "source": [
    "# Imports"
   ]
  },
  {
   "cell_type": "code",
   "execution_count": 5,
   "id": "17956f2d-25f2-43ce-937d-cbcedaf2ff15",
   "metadata": {
    "execution": {
     "iopub.execute_input": "2021-06-24T08:37:48.251386Z",
     "iopub.status.busy": "2021-06-24T08:37:48.251386Z",
     "iopub.status.idle": "2021-06-24T08:37:48.609383Z",
     "shell.execute_reply": "2021-06-24T08:37:48.609383Z",
     "shell.execute_reply.started": "2021-06-24T08:37:48.251386Z"
    },
    "tags": []
   },
   "outputs": [],
   "source": [
    "import numpy as np\n",
    "import tensorflow as tf\n",
    "from tensorflow import keras\n",
    "import time\n",
    "import pickle\n",
    "from collections import deque\n",
    "from pingpong import pingpongRL\n",
    "import matplotlib.pyplot as plt"
   ]
  },
  {
   "cell_type": "code",
   "execution_count": 8,
   "id": "c6a1338f-5860-4a1b-943f-1b18b3f9948c",
   "metadata": {
    "execution": {
     "iopub.execute_input": "2021-06-24T07:23:59.265413Z",
     "iopub.status.busy": "2021-06-24T07:23:59.264412Z",
     "iopub.status.idle": "2021-06-24T07:23:59.348412Z",
     "shell.execute_reply": "2021-06-24T07:23:59.347411Z",
     "shell.execute_reply.started": "2021-06-24T07:23:59.264412Z"
    },
    "tags": []
   },
   "outputs": [],
   "source": [
    "alpha=0.01\n",
    "alpha_decay=0.01\n",
    "model = tf.keras.models.Sequential()\n",
    "model.add(tf.keras.layers.Dense(24, input_dim=5, activation='tanh')) # input the 5 dimensions of the state\n",
    "model.add(tf.keras.layers.Dense(48, activation='tanh'))\n",
    "model.add(tf.keras.layers.Dense(2, activation='linear')) # output the Q-values (value function) for the two actions\n",
    "\n",
    "optimizer=keras.optimizers.Adam(learning_rate=alpha, decay=alpha_decay)\n",
    "loss = keras.losses.MeanSquaredError()\n",
    "model.compile(optimizer=optimizer, loss=loss)"
   ]
  },
  {
   "cell_type": "code",
   "execution_count": 9,
   "id": "5f97f15f-cd77-4506-91c5-73d79942836b",
   "metadata": {
    "execution": {
     "iopub.execute_input": "2021-06-24T07:23:59.444411Z",
     "iopub.status.busy": "2021-06-24T07:23:59.443411Z",
     "iopub.status.idle": "2021-06-24T07:23:59.457411Z",
     "shell.execute_reply": "2021-06-24T07:23:59.456411Z",
     "shell.execute_reply.started": "2021-06-24T07:23:59.444411Z"
    },
    "tags": []
   },
   "outputs": [],
   "source": [
    "state = np.array([[1,1,1,1,0]])"
   ]
  },
  {
   "cell_type": "code",
   "execution_count": 10,
   "id": "b4bc6c41-bc93-44c2-ab1b-5a45b9ba79f3",
   "metadata": {
    "execution": {
     "iopub.execute_input": "2021-06-24T07:24:00.585414Z",
     "iopub.status.busy": "2021-06-24T07:24:00.584412Z",
     "iopub.status.idle": "2021-06-24T07:24:00.698411Z",
     "shell.execute_reply": "2021-06-24T07:24:00.697483Z",
     "shell.execute_reply.started": "2021-06-24T07:24:00.585414Z"
    },
    "tags": []
   },
   "outputs": [
    {
     "name": "stdout",
     "output_type": "stream",
     "text": [
      "0.09399867057800293\n"
     ]
    }
   ],
   "source": [
    "start = time.time()\n",
    "np.argmax(model.predict(state))\n",
    "print(time.time()-start)"
   ]
  },
  {
   "cell_type": "code",
   "execution_count": 7,
   "id": "5f89088c-4a1e-4422-9181-d24e393b27ad",
   "metadata": {
    "execution": {
     "iopub.execute_input": "2021-06-24T08:38:52.578648Z",
     "iopub.status.busy": "2021-06-24T08:38:52.577650Z",
     "iopub.status.idle": "2021-06-24T08:38:52.590648Z",
     "shell.execute_reply": "2021-06-24T08:38:52.589704Z",
     "shell.execute_reply.started": "2021-06-24T08:38:52.577650Z"
    },
    "tags": []
   },
   "outputs": [],
   "source": [
    "PATH = \"RL/agents/\"\n",
    "time = 1036\n",
    "mem = pickle.load(open(f\"{PATH}mem{210624}_{time}.p\", \"rb\"))\n",
    "loss = pickle.load(open(f\"{PATH}loss{210624}_{time}.p\", \"rb\"))\n",
    "score = pickle.load(open(f\"{PATH}scores{210624}_{time}.p\", \"rb\"))"
   ]
  },
  {
   "cell_type": "code",
   "execution_count": 12,
   "id": "fb0bcad6-3630-44b6-8096-4af801679b14",
   "metadata": {
    "execution": {
     "iopub.execute_input": "2021-06-24T08:39:48.905394Z",
     "iopub.status.busy": "2021-06-24T08:39:48.905394Z",
     "iopub.status.idle": "2021-06-24T08:39:49.146363Z",
     "shell.execute_reply": "2021-06-24T08:39:49.145363Z",
     "shell.execute_reply.started": "2021-06-24T08:39:48.905394Z"
    },
    "tags": []
   },
   "outputs": [
    {
     "data": {
      "text/plain": [
       "[<matplotlib.lines.Line2D at 0x22685cdd430>]"
      ]
     },
     "execution_count": 12,
     "metadata": {},
     "output_type": "execute_result"
    },
    {
     "data": {
      "image/png": "[encoded data removed]",
      "text/plain": [
       "<Figure size 432x288 with 2 Axes>"
      ]
     },
     "metadata": {
      "needs_background": "light"
     },
     "output_type": "display_data"
    }
   ],
   "source": [
    "fig, axs = plt.subplots(2,1)\n",
    "episodes = np.linspace(0,len(loss)-1, len(loss))\n",
    "ax=axs[0]\n",
    "ax.plot(episodes, loss)\n",
    "ax=axs[1]\n",
    "ax.plot(episodes, score)"
   ]
  },
  {
   "cell_type": "code",
   "execution_count": 30,
   "id": "70c9d878-d1ca-4c32-9598-eea712c6065e",
   "metadata": {
    "execution": {
     "iopub.execute_input": "2021-06-24T07:35:14.831917Z",
     "iopub.status.busy": "2021-06-24T07:35:14.831917Z",
     "iopub.status.idle": "2021-06-24T07:35:14.840920Z",
     "shell.execute_reply": "2021-06-24T07:35:14.839917Z",
     "shell.execute_reply.started": "2021-06-24T07:35:14.831917Z"
    },
    "tags": []
   },
   "outputs": [
    {
     "data": {
      "text/plain": [
       "(array([[200, 200,  10,  -1,  10]]),\n",
       " 0,\n",
       " 0,\n",
       " array([[190, 199,  20,  -1,  10]]),\n",
       " False)"
      ]
     },
     "execution_count": 30,
     "metadata": {},
     "output_type": "execute_result"
    }
   ],
   "source": [
    "episode = [mem[0]]"
   ]
  },
  {
   "cell_type": "code",
   "execution_count": 37,
   "id": "5e713e21-59b3-481e-bed6-8694e55196d4",
   "metadata": {
    "execution": {
     "iopub.execute_input": "2021-06-24T08:07:45.164149Z",
     "iopub.status.busy": "2021-06-24T08:07:45.164149Z",
     "iopub.status.idle": "2021-06-24T08:07:45.181121Z",
     "shell.execute_reply": "2021-06-24T08:07:45.177121Z",
     "shell.execute_reply.started": "2021-06-24T08:07:45.164149Z"
    },
    "tags": []
   },
   "outputs": [],
   "source": [
    "episode = []\n",
    "for m in mem:\n",
    "    episode.append(m[0][0])\n",
    "    if m[4]:\n",
    "        break"
   ]
  },
  {
   "cell_type": "code",
   "execution_count": 40,
   "id": "634f8a99-0a19-4fb5-8a87-d7f73cd017e4",
   "metadata": {
    "execution": {
     "iopub.execute_input": "2021-06-24T08:17:57.800471Z",
     "iopub.status.busy": "2021-06-24T08:17:57.800471Z",
     "iopub.status.idle": "2021-06-24T08:17:58.471023Z",
     "shell.execute_reply": "2021-06-24T08:17:58.470026Z",
     "shell.execute_reply.started": "2021-06-24T08:17:57.800471Z"
    },
    "tags": []
   },
   "outputs": [],
   "source": [
    "game = pingpongRL.Game()"
   ]
  },
  {
   "cell_type": "code",
   "execution_count": null,
   "id": "3c71c13c-5619-4d03-a7fb-b0e95b1929db",
   "metadata": {},
   "outputs": [],
   "source": [
    "game.playback(episode)"
   ]
  },
  {
   "cell_type": "code",
   "execution_count": null,
   "id": "9de20677-36ca-43a6-8314-07f8d9f9cb2c",
   "metadata": {},
   "outputs": [],
   "source": []
  }
 ],
 "metadata": {
  "kernelspec": {
   "display_name": "Python 3",
   "language": "python",
   "name": "python3"
  },
  "language_info": {
   "codemirror_mode": {
    "name": "ipython",
    "version": 3
   },
   "file_extension": ".py",
   "mimetype": "text/x-python",
   "name": "python",
   "nbconvert_exporter": "python",
   "pygments_lexer": "ipython3",
   "version": "3.8.10"
  }
 },
 "nbformat": 4,
 "nbformat_minor": 5
}
