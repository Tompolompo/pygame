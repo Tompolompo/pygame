{
 "cells": [
  {
   "cell_type": "markdown",
   "id": "af9f6a92-e8e1-443f-b9bd-becc614fe040",
   "metadata": {},
   "source": [
    "# Imports"
   ]
  },
  {
   "cell_type": "code",
   "execution_count": 11,
   "id": "17956f2d-25f2-43ce-937d-cbcedaf2ff15",
   "metadata": {
    "execution": {
     "iopub.execute_input": "2021-06-24T07:25:46.909281Z",
     "iopub.status.busy": "2021-06-24T07:25:46.908280Z",
     "iopub.status.idle": "2021-06-24T07:25:46.916280Z",
     "shell.execute_reply": "2021-06-24T07:25:46.915284Z",
     "shell.execute_reply.started": "2021-06-24T07:25:46.909281Z"
    },
    "tags": []
   },
   "outputs": [],
   "source": [
    "import numpy as np\n",
    "import tensorflow as tf\n",
    "from tensorflow import keras\n",
    "import time\n",
    "import pickle\n",
    "from collections import deque"
   ]
  },
  {
   "cell_type": "code",
   "execution_count": 8,
   "id": "c6a1338f-5860-4a1b-943f-1b18b3f9948c",
   "metadata": {
    "execution": {
     "iopub.execute_input": "2021-06-24T07:23:59.265413Z",
     "iopub.status.busy": "2021-06-24T07:23:59.264412Z",
     "iopub.status.idle": "2021-06-24T07:23:59.348412Z",
     "shell.execute_reply": "2021-06-24T07:23:59.347411Z",
     "shell.execute_reply.started": "2021-06-24T07:23:59.264412Z"
    },
    "tags": []
   },
   "outputs": [],
   "source": [
    "alpha=0.01\n",
    "alpha_decay=0.01\n",
    "model = tf.keras.models.Sequential()\n",
    "model.add(tf.keras.layers.Dense(24, input_dim=5, activation='tanh')) # input the 5 dimensions of the state\n",
    "model.add(tf.keras.layers.Dense(48, activation='tanh'))\n",
    "model.add(tf.keras.layers.Dense(2, activation='linear')) # output the Q-values (value function) for the two actions\n",
    "\n",
    "optimizer=keras.optimizers.Adam(learning_rate=alpha, decay=alpha_decay)\n",
    "loss = keras.losses.MeanSquaredError()\n",
    "model.compile(optimizer=optimizer, loss=loss)"
   ]
  },
  {
   "cell_type": "code",
   "execution_count": 9,
   "id": "5f97f15f-cd77-4506-91c5-73d79942836b",
   "metadata": {
    "execution": {
     "iopub.execute_input": "2021-06-24T07:23:59.444411Z",
     "iopub.status.busy": "2021-06-24T07:23:59.443411Z",
     "iopub.status.idle": "2021-06-24T07:23:59.457411Z",
     "shell.execute_reply": "2021-06-24T07:23:59.456411Z",
     "shell.execute_reply.started": "2021-06-24T07:23:59.444411Z"
    },
    "tags": []
   },
   "outputs": [],
   "source": [
    "state = np.array([[1,1,1,1,0]])"
   ]
  },
  {
   "cell_type": "code",
   "execution_count": 10,
   "id": "b4bc6c41-bc93-44c2-ab1b-5a45b9ba79f3",
   "metadata": {
    "execution": {
     "iopub.execute_input": "2021-06-24T07:24:00.585414Z",
     "iopub.status.busy": "2021-06-24T07:24:00.584412Z",
     "iopub.status.idle": "2021-06-24T07:24:00.698411Z",
     "shell.execute_reply": "2021-06-24T07:24:00.697483Z",
     "shell.execute_reply.started": "2021-06-24T07:24:00.585414Z"
    },
    "tags": []
   },
   "outputs": [
    {
     "name": "stdout",
     "output_type": "stream",
     "text": [
      "0.09399867057800293\n"
     ]
    }
   ],
   "source": [
    "start = time.time()\n",
    "np.argmax(model.predict(state))\n",
    "print(time.time()-start)"
   ]
  },
  {
   "cell_type": "code",
   "execution_count": 27,
   "id": "5f89088c-4a1e-4422-9181-d24e393b27ad",
   "metadata": {
    "execution": {
     "iopub.execute_input": "2021-06-24T07:32:29.898370Z",
     "iopub.status.busy": "2021-06-24T07:32:29.898370Z",
     "iopub.status.idle": "2021-06-24T07:32:30.059367Z",
     "shell.execute_reply": "2021-06-24T07:32:30.058753Z",
     "shell.execute_reply.started": "2021-06-24T07:32:29.898370Z"
    },
    "tags": []
   },
   "outputs": [],
   "source": [
    "PATH = \"C:/Users/tomas/Desktop/summer projects/game/RL/agents/\"\n",
    "mem = pickle.load(open(f\"{PATH}{210623}_{1609}.p\", \"rb\"))"
   ]
  },
  {
   "cell_type": "code",
   "execution_count": 30,
   "id": "70c9d878-d1ca-4c32-9598-eea712c6065e",
   "metadata": {
    "execution": {
     "iopub.execute_input": "2021-06-24T07:35:14.831917Z",
     "iopub.status.busy": "2021-06-24T07:35:14.831917Z",
     "iopub.status.idle": "2021-06-24T07:35:14.840920Z",
     "shell.execute_reply": "2021-06-24T07:35:14.839917Z",
     "shell.execute_reply.started": "2021-06-24T07:35:14.831917Z"
    },
    "tags": []
   },
   "outputs": [
    {
     "data": {
      "text/plain": [
       "(array([[200, 200,  10,  -1,  10]]),\n",
       " 0,\n",
       " 0,\n",
       " array([[190, 199,  20,  -1,  10]]),\n",
       " False)"
      ]
     },
     "execution_count": 30,
     "metadata": {},
     "output_type": "execute_result"
    }
   ],
   "source": [
    "mem[0]"
   ]
  },
  {
   "cell_type": "code",
   "execution_count": null,
   "id": "5e713e21-59b3-481e-bed6-8694e55196d4",
   "metadata": {},
   "outputs": [],
   "source": []
  }
 ],
 "metadata": {
  "kernelspec": {
   "display_name": "Python 3",
   "language": "python",
   "name": "python3"
  },
  "language_info": {
   "codemirror_mode": {
    "name": "ipython",
    "version": 3
   },
   "file_extension": ".py",
   "mimetype": "text/x-python",
   "name": "python",
   "nbconvert_exporter": "python",
   "pygments_lexer": "ipython3",
   "version": "3.8.10"
  }
 },
 "nbformat": 4,
 "nbformat_minor": 5
}
