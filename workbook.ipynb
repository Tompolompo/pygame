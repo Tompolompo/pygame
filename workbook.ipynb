{
 "cells": [
  {
   "cell_type": "markdown",
   "id": "af9f6a92-e8e1-443f-b9bd-becc614fe040",
   "metadata": {},
   "source": [
    "# Imports"
   ]
  },
  {
   "cell_type": "code",
   "execution_count": 39,
   "id": "17956f2d-25f2-43ce-937d-cbcedaf2ff15",
   "metadata": {
    "execution": {
     "iopub.execute_input": "2021-06-22T10:20:42.518670Z",
     "iopub.status.busy": "2021-06-22T10:20:42.517671Z",
     "iopub.status.idle": "2021-06-22T10:20:43.036671Z",
     "shell.execute_reply": "2021-06-22T10:20:43.035670Z",
     "shell.execute_reply.started": "2021-06-22T10:20:42.518670Z"
    },
    "tags": []
   },
   "outputs": [],
   "source": [
    "import numpy as np\n"
   ]
  },
  {
   "cell_type": "code",
   "execution_count": 41,
   "id": "c6a1338f-5860-4a1b-943f-1b18b3f9948c",
   "metadata": {
    "execution": {
     "iopub.execute_input": "2021-06-22T10:21:21.593200Z",
     "iopub.status.busy": "2021-06-22T10:21:21.592201Z",
     "iopub.status.idle": "2021-06-22T10:21:21.600201Z",
     "shell.execute_reply": "2021-06-22T10:21:21.599504Z",
     "shell.execute_reply.started": "2021-06-22T10:21:21.593200Z"
    },
    "tags": []
   },
   "outputs": [],
   "source": [
    "arr = np.array([0,1])"
   ]
  },
  {
   "cell_type": "code",
   "execution_count": 46,
   "id": "b4bc6c41-bc93-44c2-ab1b-5a45b9ba79f3",
   "metadata": {
    "execution": {
     "iopub.execute_input": "2021-06-22T10:22:08.608231Z",
     "iopub.status.busy": "2021-06-22T10:22:08.607517Z",
     "iopub.status.idle": "2021-06-22T10:22:08.629229Z",
     "shell.execute_reply": "2021-06-22T10:22:08.628229Z",
     "shell.execute_reply.started": "2021-06-22T10:22:08.608231Z"
    },
    "tags": []
   },
   "outputs": [
    {
     "data": {
      "text/plain": [
       "0"
      ]
     },
     "execution_count": 46,
     "metadata": {},
     "output_type": "execute_result"
    }
   ],
   "source": [
    "np.random.choice(arr)"
   ]
  },
  {
   "cell_type": "code",
   "execution_count": null,
   "id": "c53de42a-cdfb-476e-aff1-f80da5ed2fe1",
   "metadata": {},
   "outputs": [],
   "source": []
  }
 ],
 "metadata": {
  "kernelspec": {
   "display_name": "Python 3",
   "language": "python",
   "name": "python3"
  },
  "language_info": {
   "codemirror_mode": {
    "name": "ipython",
    "version": 3
   },
   "file_extension": ".py",
   "mimetype": "text/x-python",
   "name": "python",
   "nbconvert_exporter": "python",
   "pygments_lexer": "ipython3",
   "version": "3.9.5"
  }
 },
 "nbformat": 4,
 "nbformat_minor": 5
}
