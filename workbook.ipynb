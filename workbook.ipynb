{
 "cells": [
  {
   "cell_type": "markdown",
   "id": "af9f6a92-e8e1-443f-b9bd-becc614fe040",
   "metadata": {},
   "source": [
    "# Imports"
   ]
  },
  {
   "cell_type": "code",
   "execution_count": 11,
   "id": "17956f2d-25f2-43ce-937d-cbcedaf2ff15",
   "metadata": {
    "execution": {
     "iopub.execute_input": "2021-06-24T07:25:46.909281Z",
     "iopub.status.busy": "2021-06-24T07:25:46.908280Z",
     "iopub.status.idle": "2021-06-24T07:25:46.916280Z",
     "shell.execute_reply": "2021-06-24T07:25:46.915284Z",
     "shell.execute_reply.started": "2021-06-24T07:25:46.909281Z"
    },
    "tags": []
   },
   "outputs": [],
   "source": [
    "import numpy as np\n",
    "import tensorflow as tf\n",
    "from tensorflow import keras\n",
    "import time\n",
    "import pickle\n",
    "from collections import deque"
   ]
  },
  {
   "cell_type": "code",
   "execution_count": 8,
   "id": "c6a1338f-5860-4a1b-943f-1b18b3f9948c",
   "metadata": {
    "execution": {
     "iopub.execute_input": "2021-06-24T07:23:59.265413Z",
     "iopub.status.busy": "2021-06-24T07:23:59.264412Z",
     "iopub.status.idle": "2021-06-24T07:23:59.348412Z",
     "shell.execute_reply": "2021-06-24T07:23:59.347411Z",
     "shell.execute_reply.started": "2021-06-24T07:23:59.264412Z"
    },
    "tags": []
   },
   "outputs": [],
   "source": [
    "alpha=0.01\n",
    "alpha_decay=0.01\n",
    "model = tf.keras.models.Sequential()\n",
    "model.add(tf.keras.layers.Dense(24, input_dim=5, activation='tanh')) # input the 5 dimensions of the state\n",
    "model.add(tf.keras.layers.Dense(48, activation='tanh'))\n",
    "model.add(tf.keras.layers.Dense(2, activation='linear')) # output the Q-values (value function) for the two actions\n",
    "\n",
    "optimizer=keras.optimizers.Adam(learning_rate=alpha, decay=alpha_decay)\n",
    "loss = keras.losses.MeanSquaredError()\n",
    "model.compile(optimizer=optimizer, loss=loss)"
   ]
  },
  {
   "cell_type": "code",
   "execution_count": 9,
   "id": "5f97f15f-cd77-4506-91c5-73d79942836b",
   "metadata": {
    "execution": {
     "iopub.execute_input": "2021-06-24T07:23:59.444411Z",
     "iopub.status.busy": "2021-06-24T07:23:59.443411Z",
     "iopub.status.idle": "2021-06-24T07:23:59.457411Z",
     "shell.execute_reply": "2021-06-24T07:23:59.456411Z",
     "shell.execute_reply.started": "2021-06-24T07:23:59.444411Z"
    },
    "tags": []
   },
   "outputs": [],
   "source": [
    "state = np.array([[1,1,1,1,0]])"
   ]
  },
  {
   "cell_type": "code",
   "execution_count": 10,
   "id": "b4bc6c41-bc93-44c2-ab1b-5a45b9ba79f3",
   "metadata": {
    "execution": {
     "iopub.execute_input": "2021-06-24T07:24:00.585414Z",
     "iopub.status.busy": "2021-06-24T07:24:00.584412Z",
     "iopub.status.idle": "2021-06-24T07:24:00.698411Z",
     "shell.execute_reply": "2021-06-24T07:24:00.697483Z",
     "shell.execute_reply.started": "2021-06-24T07:24:00.585414Z"
    },
    "tags": []
   },
   "outputs": [
    {
     "name": "stdout",
     "output_type": "stream",
     "text": [
      "0.09399867057800293\n"
     ]
    }
   ],
   "source": [
    "start = time.time()\n",
    "np.argmax(model.predict(state))\n",
    "print(time.time()-start)"
   ]
  },
  {
   "cell_type": "code",
   "execution_count": 27,
   "id": "5f89088c-4a1e-4422-9181-d24e393b27ad",
   "metadata": {
    "execution": {
     "iopub.execute_input": "2021-06-24T07:32:29.898370Z",
     "iopub.status.busy": "2021-06-24T07:32:29.898370Z",
     "iopub.status.idle": "2021-06-24T07:32:30.059367Z",
     "shell.execute_reply": "2021-06-24T07:32:30.058753Z",
     "shell.execute_reply.started": "2021-06-24T07:32:29.898370Z"
    },
    "tags": []
   },
   "outputs": [],
   "source": [
    "PATH = \"C:/Users/tomas/Desktop/summer projects/game/RL/agents/\"\n",
    "mem = pickle.load(open(f\"{PATH}{210623}_{1609}.p\", \"rb\"))"
   ]
  },
  {
   "cell_type": "code",
   "execution_count": 30,
   "id": "70c9d878-d1ca-4c32-9598-eea712c6065e",
   "metadata": {
    "execution": {
     "iopub.execute_input": "2021-06-24T07:35:14.831917Z",
     "iopub.status.busy": "2021-06-24T07:35:14.831917Z",
     "iopub.status.idle": "2021-06-24T07:35:14.840920Z",
     "shell.execute_reply": "2021-06-24T07:35:14.839917Z",
     "shell.execute_reply.started": "2021-06-24T07:35:14.831917Z"
    },
    "tags": []
   },
   "outputs": [
    {
     "data": {
      "text/plain": [
       "(array([[200, 200,  10,  -1,  10]]),\n",
       " 0,\n",
       " 0,\n",
       " array([[190, 199,  20,  -1,  10]]),\n",
       " False)"
      ]
     },
     "execution_count": 30,
     "metadata": {},
     "output_type": "execute_result"
    }
   ],
   "source": [
    "episode = [mem[0]]"
   ]
  },
  {
   "cell_type": "code",
   "execution_count": 33,
   "id": "5e713e21-59b3-481e-bed6-8694e55196d4",
   "metadata": {
    "execution": {
     "iopub.execute_input": "2021-06-24T07:56:24.471236Z",
     "iopub.status.busy": "2021-06-24T07:56:24.471236Z",
     "iopub.status.idle": "2021-06-24T07:56:24.478234Z",
     "shell.execute_reply": "2021-06-24T07:56:24.477234Z",
     "shell.execute_reply.started": "2021-06-24T07:56:24.471236Z"
    },
    "tags": []
   },
   "outputs": [],
   "source": [
    "episode = []\n",
    "for m in mem:\n",
    "    episode.append(m[0])\n",
    "    if m[4]:\n",
    "        break"
   ]
  },
  {
   "cell_type": "code",
   "execution_count": 34,
   "id": "634f8a99-0a19-4fb5-8a87-d7f73cd017e4",
   "metadata": {
    "execution": {
     "iopub.execute_input": "2021-06-24T07:56:57.066825Z",
     "iopub.status.busy": "2021-06-24T07:56:57.066825Z",
     "iopub.status.idle": "2021-06-24T07:56:57.097823Z",
     "shell.execute_reply": "2021-06-24T07:56:57.096856Z",
     "shell.execute_reply.started": "2021-06-24T07:56:57.066825Z"
    }
   },
   "outputs": [
    {
     "data": {
      "text/plain": [
       "[array([[200, 200,  10,  -1,  10]]),\n",
       " array([[190, 199,  20,  -1,  10]]),\n",
       " array([[200, 198,  30,  -1,  10]]),\n",
       " array([[190, 197,  40,  -1,  10]]),\n",
       " array([[180, 196,  50,  -1,  10]]),\n",
       " array([[170, 195,  60,  -1,  10]]),\n",
       " array([[160, 194,  70,  -1,  10]]),\n",
       " array([[150, 193,  80,  -1,  10]]),\n",
       " array([[140, 192,  90,  -1,  10]]),\n",
       " array([[130, 191, 100,  -1,  10]]),\n",
       " array([[120, 190, 110,  -1,  10]]),\n",
       " array([[110, 189, 120,  -1,  10]]),\n",
       " array([[100, 188, 130,  -1,  10]]),\n",
       " array([[100, 187, 140,  -1,  10]]),\n",
       " array([[100, 186, 150,  -1,  10]]),\n",
       " array([[100, 185, 160,  -1,  10]]),\n",
       " array([[100, 184, 170,  -1,  10]]),\n",
       " array([[100, 183, 180,  -1,  10]]),\n",
       " array([[100, 182, 190,  -1,  10]]),\n",
       " array([[100, 181, 200,  -1,  10]]),\n",
       " array([[100, 180, 210,  -1,  10]]),\n",
       " array([[110, 179, 220,  -1,  10]]),\n",
       " array([[120, 178, 230,  -1,  10]]),\n",
       " array([[130, 177, 240,  -1,  10]]),\n",
       " array([[140, 176, 250,  -1,  10]]),\n",
       " array([[150, 175, 260,  -1,  10]]),\n",
       " array([[160, 174, 270,  -1,  10]]),\n",
       " array([[170, 173, 280,  -1,  10]]),\n",
       " array([[180, 172, 290,  -1,  10]]),\n",
       " array([[190, 171, 300,  -1,  10]]),\n",
       " array([[200, 170, 310,  -1,  10]]),\n",
       " array([[210, 169, 320,  -1,  10]]),\n",
       " array([[220, 168, 330,  -1,  10]]),\n",
       " array([[230, 167, 340,  -1,  10]]),\n",
       " array([[240, 166, 350,  -1,  10]]),\n",
       " array([[250, 165, 360,  -1,  10]]),\n",
       " array([[260, 164, 370,  -1,  10]]),\n",
       " array([[270, 163, 380,  -1,  10]]),\n",
       " array([[280, 162, 390,  -1,  10]]),\n",
       " array([[290, 161, 400,  -1,  10]]),\n",
       " array([[300, 160, 410,  -1,  10]]),\n",
       " array([[300, 159, 420,  -1,  10]]),\n",
       " array([[300, 158, 430,  -1,  10]]),\n",
       " array([[300, 157, 440,  -1,  10]]),\n",
       " array([[290, 156, 450,  -1,  10]]),\n",
       " array([[300, 155, 460,  -1,  10]]),\n",
       " array([[300, 154, 470,  -1,  10]]),\n",
       " array([[300, 153, 480,  -1,  10]]),\n",
       " array([[300, 152, 490,  -1,  10]]),\n",
       " array([[300, 151, 500,  -1,  10]]),\n",
       " array([[300, 150, 510,  -1,  10]]),\n",
       " array([[300, 149, 520,  -1,  10]]),\n",
       " array([[300, 148, 530,  -1,  10]]),\n",
       " array([[300, 147, 540,  -1,  10]]),\n",
       " array([[300, 146, 550,  -1,  10]]),\n",
       " array([[300, 145, 560,  -1,  10]]),\n",
       " array([[300, 144, 570,  -1,  10]]),\n",
       " array([[300, 143, 580,  -1,  10]]),\n",
       " array([[300, 142, 590,  -1,  10]]),\n",
       " array([[300, 141, 600,  -1,  10]])]"
      ]
     },
     "execution_count": 34,
     "metadata": {},
     "output_type": "execute_result"
    }
   ],
   "source": [
    "episode"
   ]
  },
  {
   "cell_type": "code",
   "execution_count": null,
   "id": "3c71c13c-5619-4d03-a7fb-b0e95b1929db",
   "metadata": {},
   "outputs": [],
   "source": []
  }
 ],
 "metadata": {
  "kernelspec": {
   "display_name": "Python 3",
   "language": "python",
   "name": "python3"
  },
  "language_info": {
   "codemirror_mode": {
    "name": "ipython",
    "version": 3
   },
   "file_extension": ".py",
   "mimetype": "text/x-python",
   "name": "python",
   "nbconvert_exporter": "python",
   "pygments_lexer": "ipython3",
   "version": "3.8.10"
  }
 },
 "nbformat": 4,
 "nbformat_minor": 5
}
