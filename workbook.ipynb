{
 "cells": [
  {
   "cell_type": "markdown",
   "id": "af9f6a92-e8e1-443f-b9bd-becc614fe040",
   "metadata": {},
   "source": [
    "# Imports"
   ]
  },
  {
   "cell_type": "code",
   "execution_count": 1,
   "id": "17956f2d-25f2-43ce-937d-cbcedaf2ff15",
   "metadata": {
    "execution": {
     "iopub.execute_input": "2021-06-21T13:19:09.440436Z",
     "iopub.status.busy": "2021-06-21T13:19:09.440436Z",
     "iopub.status.idle": "2021-06-21T13:19:09.542437Z",
     "shell.execute_reply": "2021-06-21T13:19:09.542437Z",
     "shell.execute_reply.started": "2021-06-21T13:19:09.440436Z"
    },
    "tags": []
   },
   "outputs": [
    {
     "name": "stdout",
     "output_type": "stream",
     "text": [
      "pygame 2.0.1 (SDL 2.0.14, Python 3.9.5)\n",
      "Hello from the pygame community. https://www.pygame.org/contribute.html\n"
     ]
    }
   ],
   "source": [
    "import pygame\n",
    "from pygame.locals import(\n",
    "    K_UP,\n",
    "    K_DOWN,\n",
    "    K_LEFT,\n",
    "    K_RIGHT,\n",
    "    K_ESCAPE,\n",
    "    KEYDOWN,\n",
    "    QUIT,\n",
    ")\n"
   ]
  },
  {
   "cell_type": "code",
   "execution_count": 2,
   "id": "c6a1338f-5860-4a1b-943f-1b18b3f9948c",
   "metadata": {
    "execution": {
     "iopub.execute_input": "2021-06-21T13:20:18.867857Z",
     "iopub.status.busy": "2021-06-21T13:20:18.867857Z",
     "iopub.status.idle": "2021-06-21T13:20:30.094495Z",
     "shell.execute_reply": "2021-06-21T13:20:30.094495Z",
     "shell.execute_reply.started": "2021-06-21T13:20:18.867857Z"
    },
    "tags": []
   },
   "outputs": [],
   "source": [
    "pygame.init()\n",
    "\n",
    "# Define constants for the screen width and height\n",
    "SCREEN_WIDTH = 800\n",
    "SCREEN_HEIGHT = 600\n",
    "\n",
    "# Create the screen object\n",
    "# The size is determined by the constant SCREEN_WIDTH and SCREEN_HEIGHT\n",
    "screen = pygame.display.set_mode((SCREEN_WIDTH, SCREEN_HEIGHT))\n",
    "\n",
    "# Variable to keep the main loop running\n",
    "running = True\n",
    "\n",
    "# Main loop\n",
    "while running:\n",
    "    # Look at every event in the queue\n",
    "    for event in pygame.event.get():\n",
    "        # Did the user hit a key?\n",
    "        if event.type == KEYDOWN:\n",
    "            # Was it the Escape key? If so, stop the loop.\n",
    "            if event.key == K_ESCAPE:\n",
    "                running = False\n",
    "\n",
    "        # Did the user click the window close button? If so, stop the loop.\n",
    "        elif event.type == QUIT:\n",
    "            running = False\n",
    "    \n",
    "    # Fill the screen with white\n",
    "    screen.fill((255, 255, 255))\n",
    "\n",
    "    # Create a surface and pass in a tuple containing its length and width\n",
    "    surf = pygame.Surface((50, 50))\n",
    "\n",
    "    # Give the surface a color to separate it from the background\n",
    "    surf.fill((0, 0, 0))\n",
    "    rect = surf.get_rect()\n",
    "    \n",
    "    # This line says \"Draw surf onto the screen at the center\"\n",
    "    screen.blit(surf, (SCREEN_WIDTH/2, SCREEN_HEIGHT/2))\n",
    "    pygame.display.flip()"
   ]
  },
  {
   "cell_type": "code",
   "execution_count": 16,
   "id": "2280b3c8-d3a6-4d0d-9f0a-9c3e83f8f4a6",
   "metadata": {
    "execution": {
     "iopub.execute_input": "2021-06-21T18:19:25.759840Z",
     "iopub.status.busy": "2021-06-21T18:19:25.758840Z",
     "iopub.status.idle": "2021-06-21T18:19:25.778841Z",
     "shell.execute_reply": "2021-06-21T18:19:25.777840Z",
     "shell.execute_reply.started": "2021-06-21T18:19:25.759840Z"
    },
    "tags": []
   },
   "outputs": [],
   "source": [
    "class test():\n",
    "    GV = 42\n",
    "    def func(self):\n",
    "        print(self.GV)"
   ]
  },
  {
   "cell_type": "code",
   "execution_count": 17,
   "id": "99cf7513-20ff-4286-a82c-98465ff0c8b8",
   "metadata": {
    "execution": {
     "iopub.execute_input": "2021-06-21T18:19:27.111839Z",
     "iopub.status.busy": "2021-06-21T18:19:27.111839Z",
     "iopub.status.idle": "2021-06-21T18:19:27.125839Z",
     "shell.execute_reply": "2021-06-21T18:19:27.124838Z",
     "shell.execute_reply.started": "2021-06-21T18:19:27.111839Z"
    },
    "tags": []
   },
   "outputs": [],
   "source": [
    "t = test()"
   ]
  },
  {
   "cell_type": "code",
   "execution_count": 18,
   "id": "d88ec46d-0d5a-4b91-828a-33fe436bd593",
   "metadata": {
    "execution": {
     "iopub.execute_input": "2021-06-21T18:19:27.399839Z",
     "iopub.status.busy": "2021-06-21T18:19:27.398839Z",
     "iopub.status.idle": "2021-06-21T18:19:27.410838Z",
     "shell.execute_reply": "2021-06-21T18:19:27.409839Z",
     "shell.execute_reply.started": "2021-06-21T18:19:27.399839Z"
    },
    "tags": []
   },
   "outputs": [
    {
     "data": {
      "text/plain": [
       "42"
      ]
     },
     "execution_count": 18,
     "metadata": {},
     "output_type": "execute_result"
    }
   ],
   "source": [
    "t.GV"
   ]
  },
  {
   "cell_type": "code",
   "execution_count": 19,
   "id": "060cf2d1-b839-4729-913e-2acbed222e52",
   "metadata": {
    "execution": {
     "iopub.execute_input": "2021-06-21T18:19:27.910841Z",
     "iopub.status.busy": "2021-06-21T18:19:27.910841Z",
     "iopub.status.idle": "2021-06-21T18:19:27.934846Z",
     "shell.execute_reply": "2021-06-21T18:19:27.932838Z",
     "shell.execute_reply.started": "2021-06-21T18:19:27.910841Z"
    },
    "tags": []
   },
   "outputs": [
    {
     "name": "stdout",
     "output_type": "stream",
     "text": [
      "42\n"
     ]
    }
   ],
   "source": [
    "t.func()"
   ]
  },
  {
   "cell_type": "code",
   "execution_count": null,
   "id": "b06bd41f-bbe9-4850-96d6-cfba3871b481",
   "metadata": {},
   "outputs": [],
   "source": []
  }
 ],
 "metadata": {
  "kernelspec": {
   "display_name": "Python 3",
   "language": "python",
   "name": "python3"
  },
  "language_info": {
   "codemirror_mode": {
    "name": "ipython",
    "version": 3
   },
   "file_extension": ".py",
   "mimetype": "text/x-python",
   "name": "python",
   "nbconvert_exporter": "python",
   "pygments_lexer": "ipython3",
   "version": "3.9.5"
  }
 },
 "nbformat": 4,
 "nbformat_minor": 5
}
