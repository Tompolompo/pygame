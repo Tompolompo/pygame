import numpy as np
import tensorflow as tf
from tensorflow import keras


alpha=0.01
alpha_decay=0.01
model = tf.keras.models.Sequential()
model.add(tf.keras.layers.Dense(24, input_dim=5, activation='tanh')) # input the 5 dimensions of the state
model.add(tf.keras.layers.Dense(48, activation='tanh'))
model.add(tf.keras.layers.Dense(2, activation='linear')) # output the Q-values (value function) for the two actions

optimizer=keras.optimizers.Adam(learning_rate=alpha, decay=alpha_decay)
loss = keras.losses.MeanSquaredError()
model.compile(optimizer=optimizer, loss=loss)


state = np.array([[1,1,1,1,0]])


np.argmax(model.predict(state))


import time


now = time.time()


time.time() - now


import datetime


dt = datetime.datetime.now()


dt.date()


dt.ctime


timestr = time.strftime("%y%m%d_%H%M")


print(timestr)


type(timestr)


print(f'{PATH}{time.strftime("%y%m%d_%H%M")}.p')



