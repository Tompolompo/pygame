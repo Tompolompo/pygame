import numpy as np



arr = np.array([0,1])


np.random.choice(arr)



